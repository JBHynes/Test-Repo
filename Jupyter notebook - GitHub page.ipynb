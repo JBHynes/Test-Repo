{
 "cells": [
  {
   "cell_type": "markdown",
   "metadata": {},
   "source": [
    "## Algorithm TUTORIAL\n",
    "### Introduction\n",
    "\n",
    "\n",
    "Text\n",
    "Text\n",
    "Text\n"
   ]
  },
  {
   "cell_type": "code",
   "execution_count": 1,
   "metadata": {},
   "outputs": [
    {
     "name": "stdout",
     "output_type": "stream",
     "text": [
      " XCORR Cross-correlation function estimates.\n",
      "    C = XCORR(A,B), where A and B are length M vectors (M>1), returns\n",
      "    the length 2*M-1 cross-correlation sequence C. If A and B are of\n",
      "    different length, the shortest one is zero-padded. C will be a\n",
      "    row vector if A is a row vector, and a column vector if A is a\n",
      "    column vector.\n",
      " \n",
      "    XCORR produces an estimate of the correlation between two random\n",
      "    (jointly stationary) sequences:\n",
      "           C(m) = E[A(n+m)*conj(B(n))] = E[A(n)*conj(B(n-m))]\n",
      "    It is also the deterministic correlation between two deterministic\n",
      "    signals.\n",
      " \n",
      "    C = XCORR(A), where A is a length M vector, returns the length 2*M-1\n",
      "    auto-correlation sequence C. The zeroth lag of the output correlation\n",
      "    is in the middle of the sequence, at element M.\n",
      " \n",
      "    C = XCORR(A), where A is an M-by-N matrix (M>1), returns a large matrix\n",
      "    with 2*M-1 rows and N^2 columns containing the cross-correlation\n",
      "    sequences for all combinations of the columns of A; the first N columns\n",
      "    of C contain the delays and cross correlations using the first column\n",
      "    of A as the reference, the next N columns of C contain the delays and\n",
      "    cross correlations using the second column of A as the reference, and\n",
      "    so on.\n",
      " \n",
      "    C = XCORR(...,MAXLAG) computes the (auto/cross) correlation over the\n",
      "    range of lags:  -MAXLAG to MAXLAG, i.e., 2*MAXLAG+1 lags.\n",
      "    If missing, default is MAXLAG = M-1.\n",
      " \n",
      "    [C,LAGS] = XCORR(...)  returns a vector of lag indices (LAGS).\n",
      " \n",
      "    XCORR(...,SCALEOPT), normalizes the correlation according to SCALEOPT:\n",
      "      'biased'   - scales the raw cross-correlation by 1/M.\n",
      "      'unbiased' - scales the raw correlation by 1/(M-abs(lags)).\n",
      "      'coeff'    - normalizes the sequence so that the auto-correlations\n",
      "                   at zero lag are identically 1.0.\n",
      "      'none'     - no scaling (this is the default).\n",
      " \n",
      "    % Example:\n",
      "    %   Measure the delay between two correlated signals.\n",
      " \n",
      "    load noisysignals s1 s2;  % load sensor signals\n",
      "    [acor,lag] = xcorr(s2,s1);\n",
      "    [~,I] = max(abs(acor));\n",
      "    timeDiff = lag(I)         % sensor 2 leads sensor 1 by 350 samples\n",
      "    subplot(311); plot(s1); title('s1');\n",
      "    subplot(312); plot(s2); title('s2');\n",
      "    subplot(313); plot(lag,acor);\n",
      "    title('Cross-correlation between s1 and s2')\n",
      " \n",
      "    See also FINDDELAY, XCORR2, XCOV, CORRCOEF, CONV, CCONV, COV, DTW.\n",
      "\n",
      "    Reference page in Doc Center\n",
      "       doc xcorr\n",
      "\n",
      "    Other functions named xcorr\n",
      "\n",
      "       gpuArray/xcorr\n",
      "\n"
     ]
    }
   ],
   "source": [
    "help xcorr"
   ]
  },
  {
   "cell_type": "code",
   "execution_count": null,
   "metadata": {},
   "outputs": [],
   "source": []
  }
 ],
 "metadata": {
  "kernelspec": {
   "display_name": "Matlab",
   "language": "matlab",
   "name": "matlab"
  },
  "language_info": {
   "codemirror_mode": "octave",
   "file_extension": ".m",
   "help_links": [
    {
     "text": "MetaKernel Magics",
     "url": "https://github.com/calysto/metakernel/blob/master/metakernel/magics/README.md"
    }
   ],
   "mimetype": "text/x-octave",
   "name": "matlab",
   "version": "0.15.1"
  }
 },
 "nbformat": 4,
 "nbformat_minor": 2
}
