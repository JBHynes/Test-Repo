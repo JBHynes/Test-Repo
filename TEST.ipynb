{
 "cells": [
  {
   "cell_type": "markdown",
   "metadata": {},
   "source": [
    "## SIMNETS TUTORIAL\n",
    "### Introduction\n",
    "\n",
    "\n",
    "\n"
   ]
  },
  {
   "cell_type": "markdown",
   "metadata": {},
   "source": [
    "#### Spike Train Extraction"
   ]
  },
  {
   "cell_type": "code",
   "execution_count": 6,
   "metadata": {},
   "outputs": [
    {
     "name": "stderr",
     "output_type": "stream",
     "text": [
      "\u001b[0;31mError using load\n",
      "'SSIMS_demo_data_center_out' is not found in the current folder or on the MATLAB path, but exists in:\n",
      "    /Users/jhynes/Downloads\n",
      "\n",
      "Change the MATLAB current folder or add its folder to the MATLAB path.\n",
      "\n",
      "\u001b[0m"
     ]
    }
   ],
   "source": [
    "\n",
    "load('SSIMS_demo_data_center_out')\n"
   ]
  },
  {
   "cell_type": "markdown",
   "metadata": {},
   "source": [
    "* __spike_timestamps:__ \n",
    "cell array with spike train data from 103 units. Spike trains are double arrays whose entries correspond to times of spike occurences, in seconds, referenced to a common zero\n",
    "* __instruction_cue:__ \n",
    "event times for 114 instruction cue events during the recording. Double array, in seconds, referenced to the same common zero as spikes.\n",
    "* __go_cue:__\n",
    "event times for 114 go cue events during the\n",
    "recording. Double array, in seconds, referenced to the same common\n",
    "zero as spikes.\n",
    "* __start_of_movement__\n",
    "event times for 114 start of movement events during the\n",
    "recording. Double array, in seconds, referenced to the same common\n",
    "zero as spikes.\n",
    "* __movement_direction__\n",
    "double vector of 114 entries, signifying the direction of\n",
    "the movement corresponding to events in start_of_movement (in degrees)\n",
    "pd: double vector of 103 entries, signifying the neurons preferred direction\n",
    "of movement (0, 359). PDs were calculated by fitting a Von misses function to fr rates. "
   ]
  },
  {
   "cell_type": "markdown",
   "metadata": {},
   "source": [
    "#### Step 1: Intrinsic Spike Train Comparison \n",
    "Intrinsic spike train similarities are calculated between all pairs of spike trains for a given neuron using the Victor-Purpura Spike train metric (ref). This step result in N separate SxS Spike train Similarity Matrices (SSIM). "
   ]
  },
  {
   "cell_type": "code",
   "execution_count": 1,
   "metadata": {},
   "outputs": [
    {
     "name": "stdout",
     "output_type": "stream",
     "text": [
      "\n",
      "ans =\n",
      "\n",
      "    'hello world'\n",
      "\n"
     ]
    }
   ],
   "source": [
    " 'hello world'"
   ]
  },
  {
   "cell_type": "markdown",
   "metadata": {},
   "source": [
    "#### Step 2: Spike Train Similarity Matrix Comparison\n",
    "Pairwise measures of Pearson’s correlation are calculated between all pairs of SSIM matrices, resulting in a single NxN Neuron Correlation matrix. \n"
   ]
  },
  {
   "cell_type": "code",
   "execution_count": null,
   "metadata": {},
   "outputs": [],
   "source": []
  },
  {
   "cell_type": "markdown",
   "metadata": {},
   "source": [
    "#### Step 3: Dimensionality Reduction and Visualization \n",
    "The high-dimensional NxN Neuron Correlation Matrix is projected down into a desired number of d dimensions and visualized in a scatter plot, resulting in what we refer to as the ‘Neuron Relational Map’. The dimensionality reduction step is carried out using the t-distributed Stochastic Neighbor Embedding (t-SNE) methods.  "
   ]
  },
  {
   "cell_type": "code",
   "execution_count": null,
   "metadata": {},
   "outputs": [],
   "source": []
  },
  {
   "cell_type": "markdown",
   "metadata": {},
   "source": [
    "#### Step 4: Cluster Detection and statistical test\n",
    "Putative functional ensembles are detected in the N×d Neuron Relational Map using the unsupervised k-means clustering algorithm. The statistical significance of the number of detected functional ensembles is tested using the silhouette significance test."
   ]
  }
 ],
 "metadata": {
  "kernelspec": {
   "display_name": "Matlab",
   "language": "matlab",
   "name": "matlab"
  },
  "language_info": {
   "codemirror_mode": "octave",
   "file_extension": ".m",
   "help_links": [
    {
     "text": "MetaKernel Magics",
     "url": "https://github.com/calysto/metakernel/blob/master/metakernel/magics/README.md"
    }
   ],
   "mimetype": "text/x-octave",
   "name": "matlab",
   "version": "0.15.1"
  }
 },
 "nbformat": 4,
 "nbformat_minor": 2
}
